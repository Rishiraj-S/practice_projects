{
 "cells": [
  {
   "cell_type": "markdown",
   "metadata": {},
   "source": [
    "# SKYTRAX British Airways Customer Reviews Sentiment Analysis\n",
    "\n",
    "---\n",
    "\n",
    "## Web scraping and analysis\n",
    "\n",
    "We will use a package called `BeautifulSoup` to collect the data from the web.\n",
    "\n",
    "### Scraping data from Skytrax\n",
    "\n",
    "For this task, we are only interested in reviews related to British Airways and the Airline itself.\n",
    "\n",
    "The data has been collected from: [https://www.airlinequality.com/airline-reviews/british-airways] using `Python` and `BeautifulSoup`."
   ]
  },
  {
   "cell_type": "code",
   "execution_count": 35,
   "metadata": {},
   "outputs": [],
   "source": [
    "# Importing all necessary libraries\n",
    "import requests\n",
    "from bs4 import BeautifulSoup\n",
    "import pandas as pd\n",
    "import numpy as np\n",
    "import matplotlib.pyplot as plt\n",
    "import seaborn as sns\n",
    "import nltk\n",
    "from nltk.corpus import stopwords\n",
    "from nltk.tokenize import word_tokenize\n",
    "from nltk.sentiment import SentimentIntensityAnalyzer\n",
    "import re\n",
    "from collections import Counter"
   ]
  },
  {
   "cell_type": "code",
   "execution_count": 2,
   "metadata": {},
   "outputs": [
    {
     "name": "stdout",
     "output_type": "stream",
     "text": [
      "Scraping page 1\n",
      "   ---> 100 total reviews\n",
      "Scraping page 2\n",
      "   ---> 200 total reviews\n",
      "Scraping page 3\n",
      "   ---> 300 total reviews\n",
      "Scraping page 4\n",
      "   ---> 400 total reviews\n",
      "Scraping page 5\n",
      "   ---> 500 total reviews\n",
      "Scraping page 6\n",
      "   ---> 600 total reviews\n",
      "Scraping page 7\n",
      "   ---> 700 total reviews\n",
      "Scraping page 8\n",
      "   ---> 800 total reviews\n",
      "Scraping page 9\n",
      "   ---> 900 total reviews\n",
      "Scraping page 10\n",
      "   ---> 1000 total reviews\n"
     ]
    }
   ],
   "source": [
    "base_url = \"https://www.airlinequality.com/airline-reviews/british-airways\"\n",
    "pages = 10\n",
    "page_size = 100\n",
    "\n",
    "reviews = []\n",
    "\n",
    "# for i in range(1, pages + 1):\n",
    "for i in range(1, pages + 1):\n",
    "\n",
    "    print(f\"Scraping page {i}\")\n",
    "\n",
    "    # Create URL to collect links from paginated data\n",
    "    url = f\"{base_url}/page/{i}/?sortby=post_date%3ADesc&pagesize={page_size}\"\n",
    "\n",
    "    # Collect HTML data from this page\n",
    "    response = requests.get(url)\n",
    "\n",
    "    # Parse content\n",
    "    content = response.content\n",
    "    parsed_content = BeautifulSoup(content, 'html.parser')\n",
    "    for para in parsed_content.find_all(\"div\", {\"class\": \"text_content\"}):\n",
    "        reviews.append(para.get_text())\n",
    "    \n",
    "    print(f\"   ---> {len(reviews)} total reviews\")"
   ]
  },
  {
   "cell_type": "code",
   "execution_count": 3,
   "metadata": {},
   "outputs": [
    {
     "data": {
      "text/html": [
       "<div>\n",
       "<style scoped>\n",
       "    .dataframe tbody tr th:only-of-type {\n",
       "        vertical-align: middle;\n",
       "    }\n",
       "\n",
       "    .dataframe tbody tr th {\n",
       "        vertical-align: top;\n",
       "    }\n",
       "\n",
       "    .dataframe thead th {\n",
       "        text-align: right;\n",
       "    }\n",
       "</style>\n",
       "<table border=\"1\" class=\"dataframe\">\n",
       "  <thead>\n",
       "    <tr style=\"text-align: right;\">\n",
       "      <th></th>\n",
       "      <th>reviews</th>\n",
       "    </tr>\n",
       "  </thead>\n",
       "  <tbody>\n",
       "    <tr>\n",
       "      <th>0</th>\n",
       "      <td>✅ Trip Verified |  We chose Rotterdam and Lond...</td>\n",
       "    </tr>\n",
       "    <tr>\n",
       "      <th>1</th>\n",
       "      <td>✅ Trip Verified | The entire booking and ticke...</td>\n",
       "    </tr>\n",
       "    <tr>\n",
       "      <th>2</th>\n",
       "      <td>Not Verified |   British Airways cancelled my ...</td>\n",
       "    </tr>\n",
       "    <tr>\n",
       "      <th>3</th>\n",
       "      <td>Not Verified | I wanted to write this review s...</td>\n",
       "    </tr>\n",
       "    <tr>\n",
       "      <th>4</th>\n",
       "      <td>✅ Trip Verified |  Check in fast and friendly....</td>\n",
       "    </tr>\n",
       "  </tbody>\n",
       "</table>\n",
       "</div>"
      ],
      "text/plain": [
       "                                             reviews\n",
       "0  ✅ Trip Verified |  We chose Rotterdam and Lond...\n",
       "1  ✅ Trip Verified | The entire booking and ticke...\n",
       "2  Not Verified |   British Airways cancelled my ...\n",
       "3  Not Verified | I wanted to write this review s...\n",
       "4  ✅ Trip Verified |  Check in fast and friendly...."
      ]
     },
     "execution_count": 3,
     "metadata": {},
     "output_type": "execute_result"
    }
   ],
   "source": [
    "# Creating a dataframe containing the reviews\n",
    "df = pd.DataFrame()\n",
    "df[\"reviews\"] = reviews\n",
    "df.head()"
   ]
  },
  {
   "cell_type": "code",
   "execution_count": 4,
   "metadata": {},
   "outputs": [],
   "source": [
    "# df.to_csv(\"data/BA_reviews.csv\")"
   ]
  },
  {
   "cell_type": "markdown",
   "metadata": {},
   "source": [
    "The dataset is ready. The loops above collected 1000 reviews by iterating through the paginated pages on the website.\n",
    "\n",
    "Next we will clean this data to remove any unnecessary text from each of the rows. For example, \"✅ Trip Verified\" can be removed from each row if it exists, as it's not relevant to what we want to investigate."
   ]
  },
  {
   "cell_type": "code",
   "execution_count": 5,
   "metadata": {},
   "outputs": [
    {
     "data": {
      "text/plain": [
       "'✅ Trip Verified |  We chose Rotterdam and London City airport because of convenience, both small and having a hotel in the Docklands meant a short distance from City Airport. Three hours before our departure our flight was canceled however. Disappointing, but we made a swift move to Amsterdam Schiphol Airport, but unfortunately we were offered a flight to Heathrow, which meant almost 1,5 hours by tube to our hotel. Flight back operated out of LCY to RTM, but had a 30 mins delay, so in terms of punctuality BA is not very reliant. The flights were okay, with a snack and a drink. The E190 being far more comfortable with 2-2 seating and more legroom than the A319. Our extra expenses for the cancelled flight were handled promptly and we got all the money for extra transport and food back, so BA did a good job in this respect. But hesitant to book again, though they are the only airline flying between RTM and LCY.'"
      ]
     },
     "execution_count": 5,
     "metadata": {},
     "output_type": "execute_result"
    }
   ],
   "source": [
    "df['reviews'][0]"
   ]
  },
  {
   "cell_type": "code",
   "execution_count": 6,
   "metadata": {},
   "outputs": [],
   "source": [
    "# Splitting into 2 columns at \"|\"\n",
    "df[['verification','review']] = df['reviews'].str.split('|', expand = True)"
   ]
  },
  {
   "cell_type": "code",
   "execution_count": 7,
   "metadata": {},
   "outputs": [],
   "source": [
    "# Dropping the \"Trip Verified\" section\n",
    "df.drop(['reviews','verification'], axis = 1, inplace = True)\n",
    "df['review'] = df['review'].str.lstrip()"
   ]
  },
  {
   "cell_type": "code",
   "execution_count": 8,
   "metadata": {},
   "outputs": [
    {
     "data": {
      "text/html": [
       "<div>\n",
       "<style scoped>\n",
       "    .dataframe tbody tr th:only-of-type {\n",
       "        vertical-align: middle;\n",
       "    }\n",
       "\n",
       "    .dataframe tbody tr th {\n",
       "        vertical-align: top;\n",
       "    }\n",
       "\n",
       "    .dataframe thead th {\n",
       "        text-align: right;\n",
       "    }\n",
       "</style>\n",
       "<table border=\"1\" class=\"dataframe\">\n",
       "  <thead>\n",
       "    <tr style=\"text-align: right;\">\n",
       "      <th></th>\n",
       "      <th>review</th>\n",
       "    </tr>\n",
       "  </thead>\n",
       "  <tbody>\n",
       "    <tr>\n",
       "      <th>0</th>\n",
       "      <td>We chose Rotterdam and London City airport bec...</td>\n",
       "    </tr>\n",
       "    <tr>\n",
       "      <th>1</th>\n",
       "      <td>The entire booking and ticketing experience ha...</td>\n",
       "    </tr>\n",
       "    <tr>\n",
       "      <th>2</th>\n",
       "      <td>British Airways cancelled my flight less than ...</td>\n",
       "    </tr>\n",
       "    <tr>\n",
       "      <th>3</th>\n",
       "      <td>I wanted to write this review so I could give ...</td>\n",
       "    </tr>\n",
       "    <tr>\n",
       "      <th>4</th>\n",
       "      <td>Check in fast and friendly. Security a breeze....</td>\n",
       "    </tr>\n",
       "  </tbody>\n",
       "</table>\n",
       "</div>"
      ],
      "text/plain": [
       "                                              review\n",
       "0  We chose Rotterdam and London City airport bec...\n",
       "1  The entire booking and ticketing experience ha...\n",
       "2  British Airways cancelled my flight less than ...\n",
       "3  I wanted to write this review so I could give ...\n",
       "4  Check in fast and friendly. Security a breeze...."
      ]
     },
     "execution_count": 8,
     "metadata": {},
     "output_type": "execute_result"
    }
   ],
   "source": [
    "df.head()"
   ]
  },
  {
   "cell_type": "code",
   "execution_count": 9,
   "metadata": {},
   "outputs": [
    {
     "name": "stdout",
     "output_type": "stream",
     "text": [
      "<class 'pandas.core.frame.DataFrame'>\n",
      "RangeIndex: 1000 entries, 0 to 999\n",
      "Data columns (total 1 columns):\n",
      " #   Column  Non-Null Count  Dtype \n",
      "---  ------  --------------  ----- \n",
      " 0   review  1000 non-null   object\n",
      "dtypes: object(1)\n",
      "memory usage: 7.9+ KB\n"
     ]
    }
   ],
   "source": [
    "df.info()"
   ]
  },
  {
   "cell_type": "code",
   "execution_count": 10,
   "metadata": {},
   "outputs": [
    {
     "name": "stderr",
     "output_type": "stream",
     "text": [
      "[nltk_data] Downloading package stopwords to\n",
      "[nltk_data]     C:\\Users\\rishi\\AppData\\Roaming\\nltk_data...\n",
      "[nltk_data]   Package stopwords is already up-to-date!\n",
      "[nltk_data] Downloading package punkt to\n",
      "[nltk_data]     C:\\Users\\rishi\\AppData\\Roaming\\nltk_data...\n",
      "[nltk_data]   Package punkt is already up-to-date!\n",
      "[nltk_data] Downloading package vader_lexicon to\n",
      "[nltk_data]     C:\\Users\\rishi\\AppData\\Roaming\\nltk_data...\n",
      "[nltk_data]   Package vader_lexicon is already up-to-date!\n"
     ]
    },
    {
     "data": {
      "text/plain": [
       "True"
      ]
     },
     "execution_count": 10,
     "metadata": {},
     "output_type": "execute_result"
    }
   ],
   "source": [
    "# Downloading all necessary NLTK resources\n",
    "nltk.download('stopwords')\n",
    "nltk.download('punkt')\n",
    "nltk.download('vader_lexicon')"
   ]
  },
  {
   "cell_type": "code",
   "execution_count": 11,
   "metadata": {},
   "outputs": [],
   "source": [
    "# Defining a function to clean each review:\n",
    "def review_cleaner(review):\n",
    "    # Convert the review to lowercase\n",
    "    review = review.lower()\n",
    "    \n",
    "    # Removing special characters\n",
    "    review = re.sub(r'\\W+', ' ', review)\n",
    "    \n",
    "    # Tokenize\n",
    "    review_tokens = word_tokenize(review)\n",
    "    \n",
    "    # Removing stopwords\n",
    "    clean_tokens = [word for word in review_tokens if word not in stopwords.words('english')]\n",
    "    \n",
    "    return ' '.join(clean_tokens)"
   ]
  },
  {
   "cell_type": "code",
   "execution_count": 12,
   "metadata": {},
   "outputs": [],
   "source": [
    "# Defining a function to analyze sentiments\n",
    "def sentiment_analyzer(review):\n",
    "    sia = SentimentIntensityAnalyzer()\n",
    "    sentiment = sia.polarity_scores(review)\n",
    "    return sentiment"
   ]
  },
  {
   "cell_type": "code",
   "execution_count": 13,
   "metadata": {},
   "outputs": [],
   "source": [
    "# Applying the cleaning function\n",
    "df['cleaned_review'] = df['review'].apply(review_cleaner)\n",
    "# Applying the sentiment analysis function to the review column\n",
    "df['sentiment'] = df['cleaned_review'].apply(sentiment_analyzer)"
   ]
  },
  {
   "cell_type": "code",
   "execution_count": 14,
   "metadata": {},
   "outputs": [
    {
     "data": {
      "text/plain": [
       "{'neg': 0.123, 'neu': 0.726, 'pos': 0.15, 'compound': 0.3818}"
      ]
     },
     "execution_count": 14,
     "metadata": {},
     "output_type": "execute_result"
    }
   ],
   "source": [
    "df['sentiment'][0]"
   ]
  },
  {
   "cell_type": "code",
   "execution_count": 16,
   "metadata": {},
   "outputs": [],
   "source": [
    "# Extract each sentiment component\n",
    "df['negative'] = df['sentiment'].apply(lambda x: x['neg'])\n",
    "df['neutral'] = df['sentiment'].apply(lambda x: x['neu'])\n",
    "df['positive'] = df['sentiment'].apply(lambda x: x['pos'])\n",
    "df['compound'] = df['sentiment'].apply(lambda x: x['compound'])\n",
    "\n",
    "df['sentiment_type'] = df['compound'].apply(lambda score: 'positive' if score > 0.05 else ('negative' if score < -0.05 else 'neutral'))"
   ]
  },
  {
   "cell_type": "code",
   "execution_count": 17,
   "metadata": {},
   "outputs": [
    {
     "name": "stdout",
     "output_type": "stream",
     "text": [
      "<class 'pandas.core.frame.DataFrame'>\n",
      "RangeIndex: 1000 entries, 0 to 999\n",
      "Data columns (total 8 columns):\n",
      " #   Column          Non-Null Count  Dtype  \n",
      "---  ------          --------------  -----  \n",
      " 0   review          1000 non-null   object \n",
      " 1   cleaned_review  1000 non-null   object \n",
      " 2   sentiment       1000 non-null   object \n",
      " 3   negative        1000 non-null   float64\n",
      " 4   neutral         1000 non-null   float64\n",
      " 5   positive        1000 non-null   float64\n",
      " 6   compound        1000 non-null   float64\n",
      " 7   sentiment_type  1000 non-null   object \n",
      "dtypes: float64(4), object(4)\n",
      "memory usage: 62.6+ KB\n"
     ]
    }
   ],
   "source": [
    "df.info()"
   ]
  },
  {
   "cell_type": "code",
   "execution_count": 18,
   "metadata": {},
   "outputs": [
    {
     "data": {
      "text/html": [
       "<div>\n",
       "<style scoped>\n",
       "    .dataframe tbody tr th:only-of-type {\n",
       "        vertical-align: middle;\n",
       "    }\n",
       "\n",
       "    .dataframe tbody tr th {\n",
       "        vertical-align: top;\n",
       "    }\n",
       "\n",
       "    .dataframe thead th {\n",
       "        text-align: right;\n",
       "    }\n",
       "</style>\n",
       "<table border=\"1\" class=\"dataframe\">\n",
       "  <thead>\n",
       "    <tr style=\"text-align: right;\">\n",
       "      <th></th>\n",
       "      <th>review</th>\n",
       "      <th>cleaned_review</th>\n",
       "      <th>sentiment</th>\n",
       "      <th>negative</th>\n",
       "      <th>neutral</th>\n",
       "      <th>positive</th>\n",
       "      <th>compound</th>\n",
       "      <th>sentiment_type</th>\n",
       "    </tr>\n",
       "  </thead>\n",
       "  <tbody>\n",
       "    <tr>\n",
       "      <th>0</th>\n",
       "      <td>We chose Rotterdam and London City airport bec...</td>\n",
       "      <td>chose rotterdam london city airport convenienc...</td>\n",
       "      <td>{'neg': 0.123, 'neu': 0.726, 'pos': 0.15, 'com...</td>\n",
       "      <td>0.123</td>\n",
       "      <td>0.726</td>\n",
       "      <td>0.150</td>\n",
       "      <td>0.3818</td>\n",
       "      <td>positive</td>\n",
       "    </tr>\n",
       "    <tr>\n",
       "      <th>1</th>\n",
       "      <td>The entire booking and ticketing experience ha...</td>\n",
       "      <td>entire booking ticketing experience stressful ...</td>\n",
       "      <td>{'neg': 0.227, 'neu': 0.773, 'pos': 0.0, 'comp...</td>\n",
       "      <td>0.227</td>\n",
       "      <td>0.773</td>\n",
       "      <td>0.000</td>\n",
       "      <td>-0.9595</td>\n",
       "      <td>negative</td>\n",
       "    </tr>\n",
       "    <tr>\n",
       "      <th>2</th>\n",
       "      <td>British Airways cancelled my flight less than ...</td>\n",
       "      <td>british airways cancelled flight less 24 hours...</td>\n",
       "      <td>{'neg': 0.26, 'neu': 0.601, 'pos': 0.14, 'comp...</td>\n",
       "      <td>0.260</td>\n",
       "      <td>0.601</td>\n",
       "      <td>0.140</td>\n",
       "      <td>-0.7650</td>\n",
       "      <td>negative</td>\n",
       "    </tr>\n",
       "    <tr>\n",
       "      <th>3</th>\n",
       "      <td>I wanted to write this review so I could give ...</td>\n",
       "      <td>wanted write review could give huge thank one ...</td>\n",
       "      <td>{'neg': 0.0, 'neu': 0.711, 'pos': 0.289, 'comp...</td>\n",
       "      <td>0.000</td>\n",
       "      <td>0.711</td>\n",
       "      <td>0.289</td>\n",
       "      <td>0.9637</td>\n",
       "      <td>positive</td>\n",
       "    </tr>\n",
       "    <tr>\n",
       "      <th>4</th>\n",
       "      <td>Check in fast and friendly. Security a breeze....</td>\n",
       "      <td>check fast friendly security breeze lounge bus...</td>\n",
       "      <td>{'neg': 0.069, 'neu': 0.498, 'pos': 0.433, 'co...</td>\n",
       "      <td>0.069</td>\n",
       "      <td>0.498</td>\n",
       "      <td>0.433</td>\n",
       "      <td>0.9686</td>\n",
       "      <td>positive</td>\n",
       "    </tr>\n",
       "  </tbody>\n",
       "</table>\n",
       "</div>"
      ],
      "text/plain": [
       "                                              review  \\\n",
       "0  We chose Rotterdam and London City airport bec...   \n",
       "1  The entire booking and ticketing experience ha...   \n",
       "2  British Airways cancelled my flight less than ...   \n",
       "3  I wanted to write this review so I could give ...   \n",
       "4  Check in fast and friendly. Security a breeze....   \n",
       "\n",
       "                                      cleaned_review  \\\n",
       "0  chose rotterdam london city airport convenienc...   \n",
       "1  entire booking ticketing experience stressful ...   \n",
       "2  british airways cancelled flight less 24 hours...   \n",
       "3  wanted write review could give huge thank one ...   \n",
       "4  check fast friendly security breeze lounge bus...   \n",
       "\n",
       "                                           sentiment  negative  neutral  \\\n",
       "0  {'neg': 0.123, 'neu': 0.726, 'pos': 0.15, 'com...     0.123    0.726   \n",
       "1  {'neg': 0.227, 'neu': 0.773, 'pos': 0.0, 'comp...     0.227    0.773   \n",
       "2  {'neg': 0.26, 'neu': 0.601, 'pos': 0.14, 'comp...     0.260    0.601   \n",
       "3  {'neg': 0.0, 'neu': 0.711, 'pos': 0.289, 'comp...     0.000    0.711   \n",
       "4  {'neg': 0.069, 'neu': 0.498, 'pos': 0.433, 'co...     0.069    0.498   \n",
       "\n",
       "   positive  compound sentiment_type  \n",
       "0     0.150    0.3818       positive  \n",
       "1     0.000   -0.9595       negative  \n",
       "2     0.140   -0.7650       negative  \n",
       "3     0.289    0.9637       positive  \n",
       "4     0.433    0.9686       positive  "
      ]
     },
     "execution_count": 18,
     "metadata": {},
     "output_type": "execute_result"
    }
   ],
   "source": [
    "df.head()"
   ]
  },
  {
   "cell_type": "code",
   "execution_count": 21,
   "metadata": {},
   "outputs": [
    {
     "data": {
      "image/png": "[encoded data removed]",
      "text/plain": [
       "<Figure size 500x500 with 1 Axes>"
      ]
     },
     "metadata": {},
     "output_type": "display_data"
    }
   ],
   "source": [
    "# Plotting a Pie Chart for the sentiment_type\n",
    "# Calculate the counts of each category\n",
    "sentiment_counts = df['sentiment_type'].value_counts()\n",
    "\n",
    "# Plotting the pie chart\n",
    "plt.figure(figsize=(5,5))\n",
    "plt.pie(sentiment_counts, labels=sentiment_counts.index, autopct='%1.1f%%', startangle=90, colors=plt.cm.Paired(np.arange(len(sentiment_counts))))\n",
    "plt.title('Distribution of Sentiments')\n",
    "plt.show()"
   ]
  },
  {
   "cell_type": "markdown",
   "metadata": {},
   "source": [
    "From the Customer Reviews, we can observe that:\n",
    "\n",
    "- Most of the customers shared POSITIVE REVIEWS.\n",
    "- Even though the percentage of POSITIVE REVIEWS are higher than the percentage of NEGATIVE REVIEWS, the percentage of NEGATIVE REVIEWS is still very high!!"
   ]
  },
  {
   "cell_type": "code",
   "execution_count": 33,
   "metadata": {},
   "outputs": [
    {
     "data": {
      "image/png": "[encoded data removed]",
      "text/plain": [
       "<Figure size 600x400 with 1 Axes>"
      ]
     },
     "metadata": {},
     "output_type": "display_data"
    }
   ],
   "source": [
    "# Plotting a histogram to understand it better\n",
    "plt.figure(figsize=(6, 4))\n",
    "sns.histplot(data=df, x='compound', hue='sentiment_type',palette=['green', 'red', 'yellow'], kde=True)  # KDE adds a density curve\n",
    "plt.title('Distribution of Compound Data')\n",
    "plt.xlabel('Values')\n",
    "plt.ylabel('Frequency')\n",
    "plt.show()"
   ]
  },
  {
   "cell_type": "code",
   "execution_count": 38,
   "metadata": {},
   "outputs": [],
   "source": [
    "# We will now try and observe the key words in all the review and plot their occurence to assess their importance\n",
    "# Combining all the review strings to a single string\n",
    "review_string = ' '.join(df['cleaned_review'])\n",
    "# Converting string to list of words\n",
    "words = review_string.split(' ')\n",
    "# Counting the frequency of each word\n",
    "word_counts = Counter(words)"
   ]
  },
  {
   "cell_type": "code",
   "execution_count": 40,
   "metadata": {},
   "outputs": [],
   "source": [
    "most_common_words = word_counts.most_common(10)"
   ]
  },
  {
   "cell_type": "code",
   "execution_count": 41,
   "metadata": {},
   "outputs": [
    {
     "data": {
      "text/plain": [
       "[('flight', 1929),\n",
       " ('ba', 1259),\n",
       " ('service', 722),\n",
       " ('london', 530),\n",
       " ('time', 530),\n",
       " ('seat', 450),\n",
       " ('crew', 448),\n",
       " ('class', 446),\n",
       " ('food', 437),\n",
       " ('good', 429)]"
      ]
     },
     "execution_count": 41,
     "metadata": {},
     "output_type": "execute_result"
    }
   ],
   "source": [
    "most_common_words"
   ]
  },
  {
   "cell_type": "code",
   "execution_count": 42,
   "metadata": {},
   "outputs": [],
   "source": [
    "words, counts = zip(*most_common_words)"
   ]
  },
  {
   "cell_type": "code",
   "execution_count": 45,
   "metadata": {},
   "outputs": [
    {
     "data": {
      "image/png": "[encoded data removed]",
      "text/plain": [
       "<Figure size 600x400 with 1 Axes>"
      ]
     },
     "metadata": {},
     "output_type": "display_data"
    }
   ],
   "source": [
    "# Setting up the plot with Seaborn styling\n",
    "sns.set(style=\"whitegrid\")\n",
    "\n",
    "# Creating the bar plot\n",
    "plt.figure(figsize=(6, 4))\n",
    "sns.barplot(x=list(counts), y=list(words), palette=\"viridis\")\n",
    "\n",
    "# Adding title and labels\n",
    "plt.title('Top 10 Most Frequent Topics')\n",
    "plt.xlabel('Frequency')\n",
    "plt.ylabel('Topic')\n",
    "plt.show()"
   ]
  },
  {
   "cell_type": "markdown",
   "metadata": {},
   "source": [
    "We can observe the top 10 most frequent words from the sentiment analysis carried out above. The key topics of discussion involves **service**, **seat**, **crew** and **food**.\n"
   ]
  }
 ],
 "metadata": {
  "kernelspec": {
   "display_name": "Python 3 (ipykernel)",
   "language": "python",
   "name": "python3"
  },
  "language_info": {
   "codemirror_mode": {
    "name": "ipython",
    "version": 3
   },
   "file_extension": ".py",
   "mimetype": "text/x-python",
   "name": "python",
   "nbconvert_exporter": "python",
   "pygments_lexer": "ipython3",
   "version": "3.11.7"
  },
  "vscode": {
   "interpreter": {
    "hash": "4f7924c4c56b083e0e50eadfe7ef592a7a8ef70df33a0047f82280e6be1afe15"
   }
  }
 },
 "nbformat": 4,
 "nbformat_minor": 4
}
